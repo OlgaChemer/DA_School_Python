{
 "cells": [
  {
   "cell_type": "code",
   "execution_count": null,
   "metadata": {},
   "outputs": [],
   "source": [
    "import requests\n",
    "from tqdm.auto import tqdm\n",
    "import json"
   ]
  },
  {
   "cell_type": "code",
   "execution_count": null,
   "metadata": {},
   "outputs": [],
   "source": [
    "sber = '3529'\n",
    "page = 1\n",
    "num_per_page = 100\n",
    "moscow = 1\n",
    "url = f'https://api.hh.ru/vacancies?employer_id={sber}&per_page={num_per_page}'"
   ]
  },
  {
   "cell_type": "code",
   "execution_count": null,
   "metadata": {},
   "outputs": [],
   "source": [
    "res = requests.get(url)\n",
    "vacancies = res.json()\n",
    "num_pages = vacancies.get('pages')\n",
    "num_pages"
   ]
  },
  {
   "cell_type": "code",
   "execution_count": null,
   "metadata": {},
   "outputs": [],
   "source": [
    "all_vacancy_ids= []\n",
    "for i in tqdm(range(vacancies.get('pages'))):\n",
    "    url = f'https://api.hh.ru/vacancies?employer_id={sber}&page={i}&per_page={num_per_page}&area={moscow}'\n",
    "    res = requests.get(url)\n",
    "    vacancies = res.json()\n",
    "    vacancy_ids = [el.get('id') for el in vacancies.get('items')]\n",
    "    all_vacancy_ids.extend(vacancy_ids)"
   ]
  },
  {
   "cell_type": "code",
   "execution_count": null,
   "metadata": {},
   "outputs": [],
   "source": [
    "# Задание вытащить все вакансии СБЕРа с ХХ (у апи есть ограничение в 2000, подумайте как его обойти)\n",
    "# Вытащите все полные описания этих вакансий по запросу с https://api.hh.ru/vacancies/43326020 где 43326020 id вакансии\n",
    "# Создайте аналогичный vacancy DataFrame только добавьте поле skills\n",
    "# Переведите даты публикаций в datetime\n",
    "# Постройте график опубликованных вакансий по датам\n",
    "# Переведите даты в дни недели, и определите день недели, в который больше всего публикуют вакансий\n",
    "# Найдите те вакансии с использованием python, которые вам интересны\n",
    "# Определите по полю skills какие навыки больше всего востребованы для этих вакансий, и\n",
    "# Постройте график наиболее востребованных вакансий"
   ]
  },
  {
   "cell_type": "code",
   "execution_count": null,
   "metadata": {},
   "outputs": [],
   "source": [
    "res = requests.get('https://api.hh.ru/vacancies/54162408')\n",
    "res.json()"
   ]
  },
  {
   "cell_type": "markdown",
   "metadata": {},
   "source": [
    "Вытащите все полные описания этих вакансий"
   ]
  },
  {
   "cell_type": "code",
   "execution_count": null,
   "metadata": {},
   "outputs": [],
   "source": [
    "describe = dict()\n",
    "\n",
    "\n",
    "for i, j in enumerate(all_vacancy_ids):\n",
    "    if i < 10:\n",
    "        res = requests.get(f'https://api.hh.ru/vacancies/{j}')\n",
    "        describe[j] = res.json().get('description')"
   ]
  },
  {
   "cell_type": "markdown",
   "metadata": {},
   "source": [
    "Создайте аналогичный vacancy DataFrame только добавьте поле skills"
   ]
  },
  {
   "cell_type": "code",
   "execution_count": null,
   "metadata": {},
   "outputs": [],
   "source": [
    "import pandas as pd\n",
    "\n",
    "des = dict()\n",
    "\n",
    "for i, j in enumerate(all_vacancy_ids):\n",
    "    if i < 10:\n",
    "        res = requests.get(f'https://api.hh.ru/vacancies/{j}')\n",
    "        des[j] = res.json().get('key_skills')\n",
    "\n",
    "   \n",
    "    \n",
    "df = pd.DataFrame(describe.values(), describe.keys(), columns=['description']).reset_index()\n",
    "df1 = pd.DataFrame(des.values(), des.keys(), columns=['key_skills']).reset_index()\n",
    "df = df.merge(df1, on='index', how=\"left\")\n",
    "df.head(5)\n",
    "  "
   ]
  },
  {
   "cell_type": "markdown",
   "metadata": {},
   "source": [
    "Переведите даты публикаций в datetime\n",
    "Постройте график опубликованных вакансий по датам"
   ]
  },
  {
   "cell_type": "code",
   "execution_count": null,
   "metadata": {},
   "outputs": [],
   "source": [
    "dtc = dict()\n",
    "\n",
    "for i, j in enumerate(all_vacancy_ids):\n",
    "    if i < 10:\n",
    "        res = requests.get(f'https://api.hh.ru/vacancies/{j}')\n",
    "        dtc[j] = res.json().get('published_at')\n"
   ]
  },
  {
   "cell_type": "code",
   "execution_count": null,
   "metadata": {},
   "outputs": [],
   "source": [
    "import datetime as dt\n",
    "\n",
    "dr = pd.DataFrame(dtc.keys(), dtc.values(),  columns=['id'])\n",
    "\n",
    "dr.index = pd.to_datetime(dr.index)\n",
    "dr.loc[:, 'index'] = df.loc[:, 'index'].dt.year\n",
    "dr.head(5)"
   ]
  },
  {
   "cell_type": "code",
   "execution_count": null,
   "metadata": {},
   "outputs": [],
   "source": [
    "import matplotlib.pyplot as plt\n",
    "import seaborn as sns\n",
    "plt.style.use('seaborn') \n",
    "\n",
    "dd = dr.groupby(dr.index)['id'].count().reset_index()\n",
    "sns.lineplot(dd.index, dd.id)\n",
    "plt.show()"
   ]
  },
  {
   "cell_type": "markdown",
   "metadata": {},
   "source": [
    "Переведите даты в дни недели, и определите день недели, в который больше всего публикуют вакансий"
   ]
  },
  {
   "cell_type": "code",
   "execution_count": null,
   "metadata": {},
   "outputs": [],
   "source": [
    "dk = dr.copy()\n",
    "dk = dk.index.strftime('%A')\n",
    "dk.groupby('index')['id'].count().sort_values(ascending=False).reset_index()"
   ]
  },
  {
   "cell_type": "markdown",
   "metadata": {},
   "source": [
    "Найдите те вакансии с использованием python, которые вам интересны"
   ]
  },
  {
   "cell_type": "code",
   "execution_count": null,
   "metadata": {},
   "outputs": [],
   "source": [
    "fave = dict()\n",
    "for i, j in enumerate(all_vacancy_ids):\n",
    "    if i < 10:\n",
    "        res = requests.get(f'https://api.hh.ru/vacancies/{j}')\n",
    "        if 'python' in res.json().get('key_skills').lower and 'data' in res.json().get('name').lower:\n",
    "            fave[j] = res.json().get('name')\n",
    "fave.keys()"
   ]
  },
  {
   "cell_type": "code",
   "execution_count": null,
   "metadata": {},
   "outputs": [],
   "source": []
  },
  {
   "cell_type": "code",
   "execution_count": null,
   "metadata": {},
   "outputs": [],
   "source": []
  },
  {
   "cell_type": "code",
   "execution_count": null,
   "metadata": {},
   "outputs": [],
   "source": []
  }
 ],
 "metadata": {
  "kernelspec": {
   "display_name": "Python 3 (ipykernel)",
   "language": "python",
   "name": "python3"
  },
  "language_info": {
   "codemirror_mode": {
    "name": "ipython",
    "version": 3
   },
   "file_extension": ".py",
   "mimetype": "text/x-python",
   "name": "python",
   "nbconvert_exporter": "python",
   "pygments_lexer": "ipython3",
   "version": "3.8.12"
  }
 },
 "nbformat": 4,
 "nbformat_minor": 4
}
